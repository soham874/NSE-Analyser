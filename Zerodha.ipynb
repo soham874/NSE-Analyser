{
 "cells": [
  {
   "cell_type": "code",
   "execution_count": 54,
   "id": "ff2fd2e4-bfe3-4e53-8fbf-698801fc3162",
   "metadata": {},
   "outputs": [],
   "source": [
    "import pyotp, requests, json\n",
    "\n",
    "login_creds = {\n",
    "    'user_id' : \"QOZ373\",\n",
    "    'password' : \"stockchodeQ1!\",\n",
    "    \"twofa_value\" : '677968'\n",
    "}\n",
    "\n",
    "session = requests.Session() \n",
    "\n",
    "res1 = session.post(\n",
    "    'https://kite.zerodha.com/api/login',\n",
    "    data={\n",
    "        \"user_id\": login_creds['user_id'], \n",
    "        \"password\": login_creds['password'], \n",
    "        \"type\": \"user_id\"}\n",
    ") \n",
    "\n",
    "loginRes = res1.json() \n",
    "#loginRes\n",
    "finalRes = session.post(\n",
    "    'https://kite.zerodha.com/api/twofa',\n",
    "    data={\n",
    "        \"user_id\": login_creds['user_id'], \n",
    "        \"request_id\": loginRes['data']['request_id'], \n",
    "        \"twofa_value\": login_creds['twofa_value'],\n",
    "        \"twofa_type\": 'app_code'\n",
    "    }\n",
    ") \n",
    "\n",
    "#finalRes.json() \n",
    "\n",
    "session_info = session.cookies.get_dict()\n",
    "\n",
    "headers = {\n",
    "    \"Content-Type\" : \"application/x-www-form-urlencoded\",\n",
    "    \"cookie\": f\"kf_session={session_info['kf_session']}; __cf_bm={session_info['__cf_bm']}; _cfuvid={session_info['_cfuvid']}; public_token={session_info['public_token']}\",\n",
    "    \"Authorization\": f\"enctoken {session_info['enctoken']}\"\n",
    "}"
   ]
  },
  {
   "cell_type": "code",
   "execution_count": null,
   "id": "6880ddd2-44d0-410d-bc12-6533af7a910d",
   "metadata": {},
   "outputs": [],
   "source": [
    "# holdings\n",
    "\n",
    "holdings = requests.request(\"GET\",\n",
    "                             \"https://kite.zerodha.com/oms/portfolio/holdings\", \n",
    "                             headers=headers)\n",
    "holdings.json()"
   ]
  },
  {
   "cell_type": "code",
   "execution_count": null,
   "id": "648909b9-9198-4f02-822e-dc6c86140f62",
   "metadata": {},
   "outputs": [],
   "source": [
    "# positions\n",
    "\n",
    "positions = requests.request(\"GET\",\n",
    "                 \"https://kite.zerodha.com/oms/portfolio/positions\", \n",
    "                 headers=headers)\n",
    "positions.json()"
   ]
  },
  {
   "cell_type": "code",
   "execution_count": null,
   "id": "89589018-f55a-4003-8019-d6a72361d3d9",
   "metadata": {},
   "outputs": [],
   "source": [
    "# orders\n",
    "\n",
    "orders = requests.request(\"GET\",\n",
    "                 \"https://kite.zerodha.com/oms/orders\", \n",
    "                 headers=headers)\n",
    "orders.json()"
   ]
  },
  {
   "cell_type": "code",
   "execution_count": null,
   "id": "fa410f04-da08-42e6-99c6-352ad269ae58",
   "metadata": {},
   "outputs": [],
   "source": [
    "# margins\n",
    "\n",
    "margins = requests.request(\"GET\",\n",
    "                 \"https://kite.zerodha.com/oms/user/margins\", \n",
    "                 headers=headers)\n",
    "margins.json()"
   ]
  },
  {
   "cell_type": "code",
   "execution_count": null,
   "id": "566c3dd8-a98d-4feb-8641-b3b3f2cc096d",
   "metadata": {},
   "outputs": [],
   "source": [
    "# place buy order\n",
    "\n",
    "order_details = {\n",
    "    \"variety\": \"regular\", \n",
    "    \"exchange\": \"NSE\", \n",
    "    \"tradingsymbol\": \"IEX\", \n",
    "    \"transaction_type\": \"BUY\", \n",
    "    \"order_type\": \"MARKET\", \n",
    "    \"quantity\": 1, \n",
    "    \"price\": 221, \n",
    "    \"product\": \"CNC\", \n",
    "    \"validity\": \"DAY\", \n",
    "    \"disclosed_quantity\": 0, \n",
    "    \"trigger price\": 0, \n",
    "    \"squareoff\": 0, \n",
    "    \"stoploss\": 0, \n",
    "    \"trailing stoploss\": 0, \n",
    "    \"user_id\": login_creds['user_id']\n",
    "}\n",
    "\n",
    "place_order_response = requests.request(\"POST\",\n",
    "                                 \"https://kite.zerodha.com/oms/orders/regular\", \n",
    "                                 headers = headers,\n",
    "                                 data = order_details)\n",
    "place_order_response.json()"
   ]
  },
  {
   "cell_type": "code",
   "execution_count": null,
   "id": "2f1d3f6e-d10a-4124-a310-44b45bc8df2b",
   "metadata": {},
   "outputs": [],
   "source": [
    "# Get historic data for a stock between 2 dates\n",
    "\n",
    "historic_data_response = requests.request(\"GET\",\n",
    "                                 f\"https://kite.zerodha.com/oms/instruments/historical/969473/day?user_id={login_creds['user_id']}&oi=1&from=2023-10-02&to=2024-10-02\", \n",
    "                                 headers = headers)\n",
    "historic_data_response.json()"
   ]
  },
  {
   "cell_type": "code",
   "execution_count": null,
   "id": "87cc2a82-513d-4b2a-ae72-9259a9414133",
   "metadata": {},
   "outputs": [],
   "source": [
    "# Get events for a stock between 2 dates\n",
    "\n",
    "events_response = requests.request(\"GET\",\n",
    "                                 \"https://kite.zerodha.com/oms/instruments/events/345089?from=2023-07-19&to=2024-10-02\", \n",
    "                                 headers = headers)\n",
    "events_response.json()"
   ]
  },
  {
   "cell_type": "code",
   "execution_count": null,
   "id": "0c09e3e3-0e3c-4f06-8bc7-3d988fb97969",
   "metadata": {},
   "outputs": [],
   "source": [
    "# create OCO sell GTT\n",
    "\n",
    "gtt_details = {\n",
    "    'condition' : json.dumps(\n",
    "        { \n",
    "            'exchange' : 'NSE',\n",
    "            'tradingsymbol': 'M&M',\n",
    "            'trigger_values' :[3007.2,3323.75],\n",
    "            'last_price' :3165.5\n",
    "        }\n",
    "    ),\n",
    "    'expires_at' : '2025-10-02 00:00:00',\n",
    "    'orders' : json.dumps(\n",
    "        [\n",
    "            {\n",
    "                'exchange' : 'NSE',\n",
    "                'tradingsymbol': 'M&M',\n",
    "                'transaction_type' : 'SELL',\n",
    "                'quantity':1,\n",
    "                'price' :3007.2,\n",
    "                'order_type': 'LIMIT',\n",
    "                'product' : 'CNC'\n",
    "            },\n",
    "            {\n",
    "    \n",
    "                'exchange' : 'NSE',\n",
    "                'tradingsymbol': 'M&M',\n",
    "                'transaction_type' : 'SELL',\n",
    "                'quantity':1,\n",
    "                'price' :3323.75,\n",
    "                'order_type': 'LIMIT',\n",
    "                'product' : 'CNC'\n",
    "            }\n",
    "        ]\n",
    "    ),\n",
    "    'type' : 'two-leg'\n",
    "}\n",
    "\n",
    "gtt_response = requests.request(\"POST\",\n",
    "                                 \"https://kite.zerodha.com/oms/gtt/triggers\", \n",
    "                                 headers = headers,\n",
    "                                 data = gtt_details)\n",
    "gtt_response.json()"
   ]
  },
  {
   "cell_type": "code",
   "execution_count": null,
   "id": "83686b45-6ea2-4d06-9288-1f281aac2fc4",
   "metadata": {},
   "outputs": [],
   "source": [
    "# current GTTS\n",
    "\n",
    "current_gtts = requests.request(\"GET\",\n",
    "                 \"https://kite.zerodha.com/oms/gtt/triggers\", \n",
    "                 headers=headers)\n",
    "current_gtts.json()"
   ]
  },
  {
   "cell_type": "code",
   "execution_count": null,
   "id": "4653bfb1-2ee9-4d36-8639-74e9bc09a2db",
   "metadata": {},
   "outputs": [],
   "source": [
    "# delete GTT\n",
    "\n",
    "delete_gtt = requests.request(\"DELETE\",\n",
    "                 \"https://kite.zerodha.com/oms/gtt/triggers/241422709\", \n",
    "                 headers=headers)\n",
    "delete_gtt.json()"
   ]
  }
 ],
 "metadata": {
  "kernelspec": {
   "display_name": "Python 3 (ipykernel)",
   "language": "python",
   "name": "python3"
  },
  "language_info": {
   "codemirror_mode": {
    "name": "ipython",
    "version": 3
   },
   "file_extension": ".py",
   "mimetype": "text/x-python",
   "name": "python",
   "nbconvert_exporter": "python",
   "pygments_lexer": "ipython3",
   "version": "3.12.5"
  }
 },
 "nbformat": 4,
 "nbformat_minor": 5
}
