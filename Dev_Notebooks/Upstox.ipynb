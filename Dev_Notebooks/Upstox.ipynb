{
 "cells": [
  {
   "cell_type": "code",
   "execution_count": 88,
   "id": "aaafcf68-a626-4925-9e91-6759bd505acc",
   "metadata": {},
   "outputs": [
    {
     "data": {
      "text/plain": [
       "True"
      ]
     },
     "execution_count": 88,
     "metadata": {},
     "output_type": "execute_result"
    }
   ],
   "source": [
    "# Generate code (have server running)\n",
    "\n",
    "import webbrowser\n",
    "from urllib.parse import urlencode, urljoin\n",
    "\n",
    "queryparams = {\n",
    "    \"client_id\":\"c902e10b-a3a7-43f1-9752-455b331f1d83\",\n",
    "    \"redirect_uri\":\"http://localhost:8080\",\n",
    "    \"response_type\":\"code\"\n",
    "}\n",
    "\n",
    "\n",
    "webbrowser.open(\n",
    "    urljoin('https://api.upstox.com/v2/login/authorization/dialog', '?' + urlencode(queryparams))\n",
    ")"
   ]
  },
  {
   "cell_type": "code",
   "execution_count": 89,
   "id": "7a0feb7f-7a31-4aee-abb6-10aacb39dc7b",
   "metadata": {},
   "outputs": [],
   "source": [
    "# Get auth token\n",
    "\n",
    "code = 'Xsy9EE'"
   ]
  },
  {
   "cell_type": "code",
   "execution_count": 90,
   "id": "b888184b-a2bd-4b78-be17-cdf944daf1ab",
   "metadata": {},
   "outputs": [
    {
     "name": "stdout",
     "output_type": "stream",
     "text": [
      "200\n"
     ]
    }
   ],
   "source": [
    "import requests, json\n",
    "\n",
    "headers = {\n",
    "    'Content-Type' : 'application/x-www-form-urlencoded',\n",
    "    'Accept' : 'application/json'\n",
    "}\n",
    "\n",
    "data = {\n",
    "    'code' : code,\n",
    "    'client_id' : 'c902e10b-a3a7-43f1-9752-455b331f1d83',\n",
    "    'client_secret' : 'axvei02r3f',\n",
    "    'redirect_uri' : 'http://localhost:8080',\n",
    "    'grant_type' : 'authorization_code'\n",
    "}\n",
    "\n",
    "response = requests.request(\n",
    "    method = 'POST',\n",
    "    url = 'https://api.upstox.com/v2/login/authorization/token',\n",
    "    headers = headers,\n",
    "    data = data\n",
    ")\n",
    "\n",
    "# print(response.json())\n",
    "print(response.status_code)\n",
    "\n",
    "auth_token = response.json()['access_token']"
   ]
  },
  {
   "cell_type": "code",
   "execution_count": 87,
   "id": "17ef60b9-a85e-4480-b9d1-bf4d04909743",
   "metadata": {},
   "outputs": [
    {
     "name": "stdout",
     "output_type": "stream",
     "text": [
      "URL generation respone -> 200\n",
      "Connection opened\n",
      "Error: \n",
      "Connection closed\n"
     ]
    },
    {
     "data": {
      "text/plain": [
       "True"
      ]
     },
     "execution_count": 87,
     "metadata": {},
     "output_type": "execute_result"
    }
   ],
   "source": [
    "# generate and use websocket URL\n",
    "import websocket\n",
    "\n",
    "headers = {\n",
    "    'Authorization' : f'Bearer {auth_token}',\n",
    "    'Accept' : 'application/json'\n",
    "}\n",
    "\n",
    "response = requests.get(\n",
    "    url = 'https://api.upstox.com/v2/feed/market-data-feed/authorize',\n",
    "    headers = headers\n",
    ")\n",
    "\n",
    "print(f'URL generation respone -> {response.status_code}')\n",
    "\n",
    "data = {\n",
    "            \"guid\": \"someguid\",\n",
    "            \"method\": \"sub\",\n",
    "            \"data\": {\n",
    "                \"mode\": \"full\",\n",
    "                \"instrumentKeys\": [\"NSE_INDEX|Nifty Bank\", \"NSE_INDEX|Nifty 50\"]\n",
    "            }\n",
    "        }\n",
    "\n",
    "# Define WebSocket event handlers\n",
    "def on_message(ws, message):\n",
    "    print(f\"Received: {message}\")\n",
    "\n",
    "def on_error(ws, error):\n",
    "    print(f\"Error: {error}\")\n",
    "\n",
    "def on_close(ws, close_status_code, close_reason):\n",
    "    print(\"Connection closed\")\n",
    "\n",
    "def on_open(ws):\n",
    "    print(\"Connection opened\")\n",
    "    ws.send(json.dumps(data).encode('utf-8'))\n",
    "\n",
    "\n",
    "# Connect to WebSocket\n",
    "ws_url = response.json()['data']['authorized_redirect_uri']  # Replace with your WebSocket URL\n",
    "ws = websocket.WebSocketApp(\n",
    "    ws_url,\n",
    "    header=headers,\n",
    "    on_open=on_open,\n",
    "    on_message=on_message,\n",
    "    on_error=on_error,\n",
    "    on_close=on_close\n",
    ")\n",
    "\n",
    "# Run the WebSocket connection\n",
    "ws.run_forever()\n"
   ]
  },
  {
   "cell_type": "code",
   "execution_count": 98,
   "id": "ffb3bf3c-3fe3-4eb5-9724-974379db7f9d",
   "metadata": {},
   "outputs": [
    {
     "data": {
      "text/plain": [
       "{'status': 'success',\n",
       " 'data': {'NSE_EQ:NHPC': {'ohlc': {'open': 91.05,\n",
       "    'high': 91.18,\n",
       "    'low': 91.0,\n",
       "    'close': 91.02},\n",
       "   'last_price': 90.81,\n",
       "   'instrument_token': 'NSE_EQ|INE848E01016'}}}"
      ]
     },
     "execution_count": 98,
     "metadata": {},
     "output_type": "execute_result"
    }
   ],
   "source": [
    "# current market quote\n",
    "\n",
    "headers = {\n",
    "    'Authorization' : f'Bearer {auth_token}',\n",
    "    'Accept' : 'application/json'\n",
    "}\n",
    "\n",
    "queryparams = {\n",
    "    \"instrument_key\":\"NSE_EQ|INE848E01016\",\n",
    "    \"interval\":\"I30\"\n",
    "}\n",
    "\n",
    "response = requests.get(\n",
    "    url = urljoin('https://api.upstox.com/v2/market-quote/ohlc', '?' + urlencode(queryparams)),\n",
    "    headers = headers\n",
    ")\n",
    "\n",
    "response.json()"
   ]
  },
  {
   "cell_type": "code",
   "execution_count": 121,
   "id": "b8bdd128-0d5d-4e94-96bf-5c7724fa1c23",
   "metadata": {},
   "outputs": [
    {
     "data": {
      "text/plain": [
       "['2009-09-01T00:00:00+05:30', 42, 42, 36.65, 36.75, 508832326, 0]"
      ]
     },
     "execution_count": 121,
     "metadata": {},
     "output_type": "execute_result"
    }
   ],
   "source": [
    "# Historic OHLC data\n",
    "\n",
    "url = \"https://api.upstox.com/v2/historical-candle/{instrument_key}/{interval}/{to_date}/{from_date}\"\n",
    "\n",
    "formatted_url = url.format(\n",
    "    instrument_key = 'NSE_EQ|INE848E01016',\n",
    "    interval = 'day', # 1minute, 30minute, day, week, month\n",
    "    to_date = '2024-10-10',\n",
    "    from_date = '2001-10-10'\n",
    ")\n",
    "\n",
    "headers = {\n",
    "    #'Authorization' : f'Bearer {auth_token}',\n",
    "    'Accept' : 'application/json'\n",
    "}\n",
    "\n",
    "response = requests.get(\n",
    "    url = formatted_url,\n",
    "    headers = headers\n",
    ")\n",
    "\n",
    "response.json()['data']['candles'][len(response.json()['data']['candles'])-1]"
   ]
  }
 ],
 "metadata": {
  "kernelspec": {
   "display_name": "Python 3 (ipykernel)",
   "language": "python",
   "name": "python3"
  },
  "language_info": {
   "codemirror_mode": {
    "name": "ipython",
    "version": 3
   },
   "file_extension": ".py",
   "mimetype": "text/x-python",
   "name": "python",
   "nbconvert_exporter": "python",
   "pygments_lexer": "ipython3",
   "version": "3.12.5"
  }
 },
 "nbformat": 4,
 "nbformat_minor": 5
}
