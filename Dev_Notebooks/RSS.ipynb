{
 "cells": [
  {
   "cell_type": "code",
   "execution_count": null,
   "id": "ef7a5164-6c2b-48c8-866e-f821b1cb022b",
   "metadata": {},
   "outputs": [],
   "source": [
    "import feedparser\n",
    "from newspaper import Article\n",
    "import html\n",
    "\n",
    "\"\"\"\n",
    "Every minute;\n",
    "1. Fetch feed for all RSS URLs. Filter out feed data for last 30 min.\n",
    "2. Maintain a cache with TTL of 60 min. If the current feed title does not exist in the cache, push it and add it to processinglist\n",
    "3. Filter the processinglist to find unique titles\n",
    "4. For each of this title, analyse the news\n",
    "\n",
    "\"\"\"\n",
    "\n",
    "\n",
    "def get_summary(url):\n",
    "    article = Article(url)\n",
    "    article.download()\n",
    "    article.parse()\n",
    "    #print(\"Authors:\", article.authors)\n",
    "    return article.text\n",
    "\n",
    "def get_articles(url):\n",
    "    feed = feedparser.parse(url)\n",
    "    for entry in feed.entries:\n",
    "        title = entry.title\n",
    "        #description = entry.summary\n",
    "        published_date = entry.published\n",
    "        #text = get_summary(entry.links[0]['href'])\n",
    "        print(f\"{published_date} - {html.unescape(title)}\")\n",
    "        #print(f\"Published: {published_date}\")\n",
    "        #print(f\"Text: {text}\")\n",
    "        #print(\"----------------------------------------------------------------------------------------------------\")\n",
    "\n",
    "get_articles('https://www.businesstoday.in/rssfeeds/?id=home')\n",
    "get_articles('https://rss.app/feeds/tgll9PXJFaUoCjGV.xml')"
   ]
  }
 ],
 "metadata": {
  "kernelspec": {
   "display_name": "Python 3 (ipykernel)",
   "language": "python",
   "name": "python3"
  },
  "language_info": {
   "codemirror_mode": {
    "name": "ipython",
    "version": 3
   },
   "file_extension": ".py",
   "mimetype": "text/x-python",
   "name": "python",
   "nbconvert_exporter": "python",
   "pygments_lexer": "ipython3",
   "version": "3.12.5"
  }
 },
 "nbformat": 4,
 "nbformat_minor": 5
}
